{
 "cells": [
  {
   "cell_type": "code",
   "execution_count": 14,
   "metadata": {},
   "outputs": [
    {
     "name": "stdout",
     "output_type": "stream",
     "text": [
      "(18362, 2494)\n",
      "(18362, 2494)\n",
      "(18362, 3533)\n"
     ]
    }
   ],
   "source": [
    "# import pandas as pd\n",
    "# import numpy as np\n",
    "# #import rowgenerators as rg ****commented out for thesis****\n",
    "\n",
    "# from sklearn.feature_selection import VarianceThreshold\n",
    "\n",
    "# scfp = pd.read_stata('p19i6.dta')\n",
    "\n",
    "\n",
    "\n",
    "# # SELECT only rows where there is debt and where white and black\n",
    "# delinquency = 'x3005'\n",
    "# loan_schedule ='x3004'# 1 on time, 5 sometimes late, 0 inapp.\n",
    "# race = 'x6809'\n",
    "# additional_race = 'x6810'\n",
    "# hispanic = 'x7004'\n",
    "# siblings = 'x5913'\n",
    "\n",
    "# scfp = scfp[(scfp[race] == 1) | (scfp[race] == 2)]\n",
    "# scfp =  scfp[(scfp[loan_schedule] == 1) | (scfp[loan_schedule] == 5)]\n",
    "\n",
    "\n",
    "# # Remove revealing columns\n",
    "# # race_revealing = [additional_race, 'x7004']\n",
    "# # race_revealing += [col.replace('x', 'j') for col in race_revealing]\n",
    "# sched_revealing = ['x7571', 'x7570', 'x7569', 'x7556', 'x7564', 'x7554','x7553',\n",
    "#                    'x7534', 'x7533', 'x7532', 'x7166', 'x7529', 'x7821', 'x7844',\n",
    "#                    'x7867', 'x7921', 'x7569', 'x7944', 'x7521', 'x7520', 'x7518',\n",
    "#                    'x7517', delinquency, 'j3005', 'j3004']\n",
    "# sched_revealing += [col.replace('x', 'j') for col in sched_revealing]\n",
    "\n",
    "# exclude = sched_revealing#+ race_revealing\n",
    "# X = scfp.copy()\n",
    "# # Eliminate bad columns\n",
    "# #X = scfp.loc[:, [col for col in scfp.columns if col not in exclude]]\n",
    "# X = X.drop(exclude, axis=1)\n",
    "# X = X.fillna(-1)\n",
    "\n",
    "# # Eliminate columns with names starting with 'j'\n",
    "# j_columns = [col for col in X.columns if col[0] == 'j']\n",
    "# X = X.drop(j_columns, axis=1)\n",
    "\n",
    "# # Remove columns with all -1\n",
    "\n",
    "# # instantiate the VarianceThreshold object with a threshold of 0\n",
    "# selector = VarianceThreshold(threshold=0)\n",
    "\n",
    "# # fit the selector on the DataFrame\n",
    "# selector.fit(X)\n",
    "\n",
    "# # get the indices of the non-constant columns\n",
    "# non_constant_cols = selector.get_support(indices=True)\n",
    "\n",
    "# # select the non-constant columns from the original DataFrame\n",
    "# X = X.iloc[:, non_constant_cols]\n",
    "\n",
    "# # print the filtered DataFrame\n",
    "# print(X.shape)\n",
    "\n",
    "\n",
    "\n",
    "# # Change loan schedule to binary\n",
    "# X[loan_schedule] = X[loan_schedule].replace({1: 0, 5: 1})\n",
    "# # # only include where white or black\n",
    "# # X = X[(X[race] == 1) | (X[race] == 2)]\n",
    "# X[race] = X[race].replace({1: 0, 2:1})\n",
    "\n",
    "# # Change siblings to greater less than 3\n",
    "# X[siblings] = (X[siblings] > 3).astype(int)\n",
    "\n",
    "\n",
    "\n",
    "\n",
    "\n",
    "\n"
   ]
  },
  {
   "cell_type": "code",
   "execution_count": 10,
   "metadata": {},
   "outputs": [
    {
     "name": "stdout",
     "output_type": "stream",
     "text": [
      "(18362, 2494)\n",
      "(18362, 3531)\n"
     ]
    }
   ],
   "source": [
    "# Make continuous into range columns\n",
    "# Define the number of bins\n",
    "num_bins = 5\n",
    "\n",
    "# Iterate through columns\n",
    "for column in X.columns:\n",
    "    if column == loan_schedule or column == race or column == siblings:\n",
    "        continue\n",
    "    if X[column].dtype != 'object' and len(X[column].unique()) > num_bins:\n",
    "        # Determine bin edges\n",
    "        bins = pd.qcut(X[column], q=num_bins, labels=False, duplicates='drop') # Potentially would want to do normal distruibution istead of equal bins\n",
    "        X[column] = bins\n",
    "    X[column] = X[column].astype('category') # Make every column categorical for now\n",
    "\n",
    "print(X.shape)\n",
    "# Get categorical columns\n",
    "cat_cols = X.select_dtypes(include='category').columns\n",
    "cat_one_hot = pd.get_dummies(X[cat_cols], drop_first=True)\n",
    "X = X.drop(cat_cols, axis=1)\n",
    "X = pd.concat([X, cat_one_hot], axis=1)\n",
    "print(X.shape)"
   ]
  },
  {
   "cell_type": "code",
   "execution_count": 11,
   "metadata": {},
   "outputs": [
    {
     "name": "stdout",
     "output_type": "stream",
     "text": [
      "x3004\n",
      "0    0.811868\n",
      "1    0.188132\n",
      "Name: proportion, dtype: float64\n",
      "x3004\n",
      "0    0.866855\n",
      "1    0.133145\n",
      "Name: proportion, dtype: float64\n"
     ]
    }
   ],
   "source": [
    "X[siblings].unique()\n",
    "# find what % of people with siblings have loan_schedule == 5\n",
    "print(X[X[siblings] == 1][loan_schedule].value_counts(normalize=True)) # overrepresented in loan defaults\n",
    "\n",
    "# find what % of people without siblings have loan_schedule == 5\n",
    "print(X[X[siblings] == 0][loan_schedule].value_counts(normalize=True))"
   ]
  },
  {
   "cell_type": "code",
   "execution_count": 12,
   "metadata": {},
   "outputs": [],
   "source": [
    "# Split X into test and train dfs\n",
    "from sklearn.model_selection import train_test_split\n",
    "X_train, X_test = train_test_split(X, test_size=0.2, random_state=42)"
   ]
  },
  {
   "cell_type": "code",
   "execution_count": 13,
   "metadata": {},
   "outputs": [],
   "source": [
    "# Output test and train to seperate csvs\n",
    "X_train.to_csv('SCF_Siblings_train.csv', index=False)\n",
    "X_test.to_csv('SCF_Siblings_test.csv', index=False)"
   ]
  },
  {
   "cell_type": "code",
   "execution_count": 53,
   "metadata": {},
   "outputs": [
    {
     "name": "stdout",
     "output_type": "stream",
     "text": [
      "(18362, 2494)\n",
      "[ 1  6  3  2 -1  4  5]\n",
      "18362\n",
      "18362\n",
      "(18362, 2494)\n",
      "(18362, 3531)\n"
     ]
    }
   ],
   "source": [
    "import pandas as pd\n",
    "import numpy as np\n",
    "#import rowgenerators as rg ****commented out for thesis****\n",
    "\n",
    "from sklearn.feature_selection import VarianceThreshold\n",
    "\n",
    "scfp = pd.read_stata('p19i6.dta')\n",
    "\n",
    "\n",
    "\n",
    "# SELECT only rows where there is debt and where white and black\n",
    "delinquency = 'x3005'\n",
    "loan_schedule ='x3004'# 1 on time, 5 sometimes late, 0 inapp.\n",
    "race = 'x6809'\n",
    "additional_race = 'x6810'\n",
    "hispanic = 'x7004'\n",
    "siblings = 'x5913'\n",
    "\n",
    "scfp = scfp[(scfp[race] == 1) | (scfp[race] == 2)]\n",
    "scfp =  scfp[(scfp[loan_schedule] == 1) | (scfp[loan_schedule] == 5)]\n",
    "\n",
    "# Remove revealing columns\n",
    "race_revealing = [additional_race, 'x7004']\n",
    "race_revealing += [col.replace('x', 'j') for col in race_revealing]\n",
    "sched_revealing = ['x7571', 'x7570', 'x7569', 'x7556', 'x7564', 'x7554','x7553',\n",
    "                   'x7534', 'x7533', 'x7532', 'x7166', 'x7529', 'x7821', 'x7844',\n",
    "                   'x7867', 'x7921', 'x7569', 'x7944', 'x7521', 'x7520', 'x7518',\n",
    "                   'x7517', delinquency, 'j3005', 'j3004']\n",
    "sched_revealing += [col.replace('x', 'j') for col in sched_revealing]\n",
    "\n",
    "exclude = sched_revealing#+ race_revealing\n",
    "X = scfp.copy()\n",
    "# Eliminate bad columns\n",
    "#X = scfp.loc[:, [col for col in scfp.columns if col not in exclude]]\n",
    "X = X.drop(exclude, axis=1)\n",
    "X = X.fillna(-1)\n",
    "\n",
    "# Eliminate columns with names starting with 'j'\n",
    "j_columns = [col for col in X.columns if col[0] == 'j']\n",
    "X = X.drop(j_columns, axis=1)\n",
    "\n",
    "# Remove columns with all -1\n",
    "\n",
    "# instantiate the VarianceThreshold object with a threshold of 0\n",
    "selector = VarianceThreshold(threshold=0)\n",
    "\n",
    "# fit the selector on the DataFrame\n",
    "selector.fit(X)\n",
    "\n",
    "# get the indices of the non-constant columns\n",
    "non_constant_cols = selector.get_support(indices=True)\n",
    "\n",
    "# select the non-constant columns from the original DataFrame\n",
    "X = X.iloc[:, non_constant_cols]\n",
    "\n",
    "# print the filtered DataFrame\n",
    "print(X.shape)\n",
    "\n",
    "print(X[siblings].unique())\n",
    "\n",
    "# Change loan schedule to binary\n",
    "X[loan_schedule] = X[loan_schedule].replace({1: 0, 5: 1})\n",
    "# # only include where white or black\n",
    "# X = X[(X[race] == 1) | (X[race] == 2)]\n",
    "X[race] = X[race].replace({1: 0, 2:1})\n",
    "# Make siblings binary based on whether value is > 3\n",
    "# Now, perform the operation\n",
    "X[siblings] = X[siblings].replace({-1: 0, 1:0, 2:0, 3:0, 4:1, 5:1, 6:1})\n",
    "print(len(X[siblings]))\n",
    "print(len(X[race]))\n",
    "\n",
    "\n",
    "# Make continuous into range columns\n",
    "# Define the number of bins\n",
    "num_bins = 5\n",
    "\n",
    "# Iterate through columns\n",
    "for column in X.columns:\n",
    "    if column == loan_schedule or column == race:\n",
    "        continue\n",
    "    if X[column].dtype != 'object' and len(X[column].unique()) > num_bins:\n",
    "        # Determine bin edges\n",
    "        bins = pd.qcut(X[column], q=num_bins, labels=False, duplicates='drop') # Potentially would want to do normal distruibution istead of equal bins\n",
    "        X[column] = bins\n",
    "    X[column] = X[column].astype('category') # Make every column categorical for now\n",
    "\n",
    "print(X.shape)\n",
    "# Get categorical columns\n",
    "cat_cols = X.select_dtypes(include='category').columns\n",
    "cat_one_hot = pd.get_dummies(X[cat_cols], drop_first=True)\n",
    "X = X.drop(cat_cols, axis=1)\n",
    "X = pd.concat([X, cat_one_hot], axis=1)\n",
    "print(X.shape)\n",
    "\n",
    "# Add siblings back in\n",
    "#X[siblings] = sibs\n",
    "\n",
    "\n",
    "\n",
    "# Split X into test and train dfs\n",
    "from sklearn.model_selection import train_test_split\n",
    "X_train, X_test = train_test_split(X, test_size=0.2, random_state=42)\n",
    "\n",
    "\n",
    "\n",
    "# Output test and train to seperate csvs\n",
    "X_train.to_csv('SCF_Siblings_train.csv', index=False)\n",
    "X_test.to_csv('SCF_Siblings_test.csv', index=False)\n",
    "\n"
   ]
  },
  {
   "cell_type": "code",
   "execution_count": 62,
   "metadata": {},
   "outputs": [
    {
     "name": "stdout",
     "output_type": "stream",
     "text": [
      "Index(['x3004', 'x6809', 'x7398_1', 'x7398_2', 'x7398_3', 'x7398_4', 'x7578_5',\n",
      "       'x7019_1', 'x7019_2', 'x7020_2',\n",
      "       ...\n",
      "       'y1_3', 'y1_4', 'x42000_1', 'x42000_2', 'x42000_3', 'x42000_4',\n",
      "       'x42001_1', 'x42001_2', 'x42001_3', 'x42001_4'],\n",
      "      dtype='object', length=3531)\n",
      "['x5913_1']\n",
      "x5913_1\n",
      "False    14503\n",
      "True      3859\n",
      "Name: count, dtype: int64\n",
      "bool\n"
     ]
    }
   ],
   "source": [
    "print(X.columns)\n",
    "# Find columsn that include siblings in the name\n",
    "sibs = [col for col in X.columns if siblings in col]\n",
    "print(sibs)\n",
    "sib_col = X[sibs[0]]\n",
    "print(sib_col.value_counts())\n",
    "print(sib_col.dtype)"
   ]
  },
  {
   "cell_type": "code",
   "execution_count": 51,
   "metadata": {},
   "outputs": [
    {
     "name": "stdout",
     "output_type": "stream",
     "text": [
      "[0 1]\n",
      "int8\n",
      "[0 1]\n",
      "int8\n"
     ]
    }
   ],
   "source": [
    "print(X[siblings].unique())\n",
    "print(X[siblings].dtype)\n",
    "\n",
    "print(X[race].unique())\n",
    "print(X[race].dtype)\n",
    "\n",
    "# import torch\n",
    "# my_t = torch.FloatTensor(X[siblings])\n"
   ]
  }
 ],
 "metadata": {
  "kernelspec": {
   "display_name": "farcon",
   "language": "python",
   "name": "python3"
  },
  "language_info": {
   "codemirror_mode": {
    "name": "ipython",
    "version": 3
   },
   "file_extension": ".py",
   "mimetype": "text/x-python",
   "name": "python",
   "nbconvert_exporter": "python",
   "pygments_lexer": "ipython3",
   "version": "3.8.18"
  },
  "orig_nbformat": 4
 },
 "nbformat": 4,
 "nbformat_minor": 2
}
