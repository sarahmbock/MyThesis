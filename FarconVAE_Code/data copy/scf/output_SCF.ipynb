{
 "cells": [
  {
   "cell_type": "code",
   "execution_count": 1,
   "metadata": {},
   "outputs": [
    {
     "name": "stdout",
     "output_type": "stream",
     "text": [
      "(18362, 2494)\n"
     ]
    }
   ],
   "source": [
    "import pandas as pd\n",
    "import numpy as np\n",
    "#import rowgenerators as rg ****commented out for thesis****\n",
    "\n",
    "from sklearn.feature_selection import VarianceThreshold\n",
    "\n",
    "scfp = pd.read_stata('p19i6.dta')\n",
    "\n",
    "\n",
    "\n",
    "# SELECT only rows where there is debt and where white and black\n",
    "delinquency = 'x3005'\n",
    "loan_schedule ='x3004'# 1 on time, 5 sometimes late, 0 inapp.\n",
    "race = 'x6809'\n",
    "additional_race = 'x6810'\n",
    "hispanic = 'x7004'\n",
    "\n",
    "scfp = scfp[(scfp[race] == 1) | (scfp[race] == 2)]\n",
    "scfp =  scfp[(scfp[loan_schedule] == 1) | (scfp[loan_schedule] == 5)]\n",
    "\n",
    "# Remove revealing columns\n",
    "race_revealing = [additional_race, 'x7004']\n",
    "race_revealing += [col.replace('x', 'j') for col in race_revealing]\n",
    "sched_revealing = ['x7571', 'x7570', 'x7569', 'x7556', 'x7564', 'x7554','x7553',\n",
    "                   'x7534', 'x7533', 'x7532', 'x7166', 'x7529', 'x7821', 'x7844',\n",
    "                   'x7867', 'x7921', 'x7569', 'x7944', 'x7521', 'x7520', 'x7518',\n",
    "                   'x7517', delinquency, 'j3005', 'j3004']\n",
    "sched_revealing += [col.replace('x', 'j') for col in sched_revealing]\n",
    "\n",
    "exclude = sched_revealing#+ race_revealing\n",
    "X = scfp.copy()\n",
    "# Eliminate bad columns\n",
    "#X = scfp.loc[:, [col for col in scfp.columns if col not in exclude]]\n",
    "X = X.drop(exclude, axis=1)\n",
    "X = X.fillna(-1)\n",
    "\n",
    "# Eliminate columns with names starting with 'j'\n",
    "j_columns = [col for col in X.columns if col[0] == 'j']\n",
    "X = X.drop(j_columns, axis=1)\n",
    "\n",
    "# Remove columns with all -1\n",
    "\n",
    "# instantiate the VarianceThreshold object with a threshold of 0\n",
    "selector = VarianceThreshold(threshold=0)\n",
    "\n",
    "# fit the selector on the DataFrame\n",
    "selector.fit(X)\n",
    "\n",
    "# get the indices of the non-constant columns\n",
    "non_constant_cols = selector.get_support(indices=True)\n",
    "\n",
    "# select the non-constant columns from the original DataFrame\n",
    "X = X.iloc[:, non_constant_cols]\n",
    "\n",
    "# print the filtered DataFrame\n",
    "print(X.shape)\n",
    "\n",
    "\n",
    "\n",
    "# Change loan schedule to binary\n",
    "X[loan_schedule] = X[loan_schedule].replace({1: 0, 5: 1})\n",
    "# # only include where white or black\n",
    "# X = X[(X[race] == 1) | (X[race] == 2)]\n",
    "X[race] = X[race].replace({1: 0, 2:1})\n",
    "\n",
    "\n"
   ]
  },
  {
   "cell_type": "code",
   "execution_count": 2,
   "metadata": {},
   "outputs": [
    {
     "name": "stdout",
     "output_type": "stream",
     "text": [
      "5        0\n",
      "6        0\n",
      "7        0\n",
      "8        0\n",
      "9        0\n",
      "        ..\n",
      "28880    0\n",
      "28881    0\n",
      "28882    0\n",
      "28883    0\n",
      "28884    0\n",
      "Name: x3004, Length: 18362, dtype: int8\n"
     ]
    }
   ],
   "source": [
    "print(X[loan_schedule])"
   ]
  },
  {
   "cell_type": "code",
   "execution_count": 58,
   "metadata": {},
   "outputs": [
    {
     "name": "stdout",
     "output_type": "stream",
     "text": [
      "1017\n"
     ]
    }
   ],
   "source": [
    "non_cat = 0\n",
    "for col in X.columns:\n",
    "    if len(X[col].unique()) > 10:\n",
    "        non_cat +=1 \n",
    "print(non_cat)"
   ]
  },
  {
   "cell_type": "code",
   "execution_count": 59,
   "metadata": {},
   "outputs": [
    {
     "name": "stdout",
     "output_type": "stream",
     "text": [
      "(18362, 2494)\n",
      "(18362, 3533)\n"
     ]
    }
   ],
   "source": [
    "# Make continuous into range columns\n",
    "# Define the number of bins\n",
    "num_bins = 5\n",
    "\n",
    "# Iterate through columns\n",
    "for column in X.columns:\n",
    "    if column == loan_schedule or column == race:\n",
    "        continue\n",
    "    if X[column].dtype != 'object' and len(X[column].unique()) > num_bins:\n",
    "        # Determine bin edges\n",
    "        bins = pd.qcut(X[column], q=num_bins, labels=False, duplicates='drop') # Potentially would want to do normal distruibution istead of equal bins\n",
    "        X[column] = bins\n",
    "    X[column] = X[column].astype('category') # Make every column categorical for now\n",
    "\n",
    "print(X.shape)\n",
    "# Get categorical columns\n",
    "cat_cols = X.select_dtypes(include='category').columns\n",
    "cat_one_hot = pd.get_dummies(X[cat_cols], drop_first=True)\n",
    "X = X.drop(cat_cols, axis=1)\n",
    "X = pd.concat([X, cat_one_hot], axis=1)\n",
    "print(X.shape)"
   ]
  },
  {
   "cell_type": "code",
   "execution_count": 56,
   "metadata": {},
   "outputs": [
    {
     "name": "stdout",
     "output_type": "stream",
     "text": [
      "(18362, 3533)\n"
     ]
    }
   ],
   "source": []
  },
  {
   "cell_type": "code",
   "execution_count": 30,
   "metadata": {},
   "outputs": [],
   "source": [
    "# # Try normalizatioN????\n",
    "\n",
    "# # Min-Max normalization\n",
    "# for col in X.columns:\n",
    "#     min_val = np.min(X[col])\n",
    "#     max_val = np.max(X[col])\n",
    "#     X[col] = (X[col] - min_val) / (max_val - min_val)\n",
    "\n",
    "\n",
    "# # print(\"Original data:\", data)\n",
    "# # print(\"Normalized data:\", normalized_data)"
   ]
  },
  {
   "cell_type": "code",
   "execution_count": 60,
   "metadata": {},
   "outputs": [],
   "source": [
    "# Split X into test and train dfs\n",
    "from sklearn.model_selection import train_test_split\n",
    "X_train, X_test = train_test_split(X, test_size=0.2, random_state=42)"
   ]
  },
  {
   "cell_type": "code",
   "execution_count": 61,
   "metadata": {},
   "outputs": [],
   "source": [
    "# Output test and train to seperate csvs\n",
    "X_train.to_csv('SCF_train.csv', index=False)\n",
    "X_test.to_csv('SCF_test.csv', index=False)"
   ]
  },
  {
   "cell_type": "code",
   "execution_count": 42,
   "metadata": {},
   "outputs": [
    {
     "name": "stdout",
     "output_type": "stream",
     "text": [
      "2494\n"
     ]
    }
   ],
   "source": [
    "# Find number of features\n",
    "print(X.shape[1])"
   ]
  },
  {
   "cell_type": "code",
   "execution_count": 5,
   "metadata": {},
   "outputs": [
    {
     "name": "stdout",
     "output_type": "stream",
     "text": [
      "0    12579\n",
      "1     2110\n",
      "Name: x3004, dtype: int64\n",
      "0    12479\n",
      "1     2210\n",
      "Name: x6809, dtype: int64\n"
     ]
    }
   ],
   "source": [
    "print(X_train[loan_schedule].value_counts())\n",
    "print(X_train[race].value_counts())"
   ]
  },
  {
   "cell_type": "code",
   "execution_count": 7,
   "metadata": {},
   "outputs": [
    {
     "name": "stdout",
     "output_type": "stream",
     "text": [
      "1296\n"
     ]
    }
   ],
   "source": [
    "# figure out how many categorical columns, and how many discrete columns, (categorical if less than 5 discrete values)\n",
    "non_cat = 0\n",
    "for col in X_train.columns:\n",
    "    if len(X_train[col].unique()) > 10:\n",
    "        non_cat +=1 \n",
    "print(non_cat)\n",
    "\n"
   ]
  }
 ],
 "metadata": {
  "kernelspec": {
   "display_name": "iw",
   "language": "python",
   "name": "python3"
  },
  "language_info": {
   "codemirror_mode": {
    "name": "ipython",
    "version": 3
   },
   "file_extension": ".py",
   "mimetype": "text/x-python",
   "name": "python",
   "nbconvert_exporter": "python",
   "pygments_lexer": "ipython3",
   "version": "3.10.8"
  },
  "orig_nbformat": 4
 },
 "nbformat": 4,
 "nbformat_minor": 2
}
